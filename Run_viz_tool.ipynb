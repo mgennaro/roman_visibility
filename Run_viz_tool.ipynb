{
 "cells": [
  {
   "cell_type": "code",
   "execution_count": null,
   "id": "3c7d589b-5a2f-40e2-b54a-f30982b2d25f",
   "metadata": {},
   "outputs": [],
   "source": [
    "from tgt_vis import compute_visibility\n",
    "from astropy.coordinates import SkyCoord\n",
    "from astropy import units as u\n",
    "from astropy.time import Time"
   ]
  },
  {
   "cell_type": "markdown",
   "id": "0530cf34-acc9-427e-92a2-85eae7c62ad8",
   "metadata": {},
   "source": [
    "## Run the tool on a list of coordinates"
   ]
  },
  {
   "cell_type": "code",
   "execution_count": null,
   "id": "f614f316-c6a3-4568-b095-dad23b95faac",
   "metadata": {},
   "outputs": [],
   "source": [
    "ra_list = [ '06h00m00s', '08h00m00s', '08h00m00s','17h45m40s', '09h00m00s', '09h00m00s']\n",
    "dec_list= ['-01d00m00s', '60d00m00s','-60d00m00s','-29d00m28s','89d00m00s','-89d00m00s']\n",
    "tgts = [SkyCoord(ra, dec,frame='icrs') for ra,dec in zip(ra_list,dec_list)]"
   ]
  },
  {
   "cell_type": "code",
   "execution_count": null,
   "id": "63f6089e-5a7a-49f8-8239-093cb4a8f388",
   "metadata": {},
   "outputs": [],
   "source": [
    "c = compute_visibility(tgts,report=True,fileout=None,interval_sampling_days=None,interval_start_time=None,interval_duration_days=None)"
   ]
  },
  {
   "cell_type": "code",
   "execution_count": null,
   "id": "ae610ff8-2446-408a-a480-b1ffab23dfcb",
   "metadata": {},
   "outputs": [],
   "source": [
    "c.compute_and_display()"
   ]
  },
  {
   "cell_type": "code",
   "execution_count": null,
   "id": "3ec46620-4f6d-4cb6-90bd-7841d2c8636f",
   "metadata": {},
   "outputs": [],
   "source": [
    "c.df_results"
   ]
  },
  {
   "cell_type": "markdown",
   "id": "948467cc-a56b-45b0-90dc-d30b1b1b7f48",
   "metadata": {},
   "source": [
    "## Display the Sun Angle vs DOY"
   ]
  },
  {
   "cell_type": "markdown",
   "id": "f5a9e9b5-c2b8-4166-b875-b14546c86bc3",
   "metadata": {},
   "source": [
    "### For all lines of sight"
   ]
  },
  {
   "cell_type": "code",
   "execution_count": null,
   "id": "c3b74f9c-9646-4255-8838-4464055a1615",
   "metadata": {},
   "outputs": [],
   "source": [
    "c.plot_SA_vs_DOY()"
   ]
  },
  {
   "cell_type": "markdown",
   "id": "c4b7c004-6927-4714-816d-2161231dc69f",
   "metadata": {},
   "source": [
    "### Display only some lines of sight"
   ]
  },
  {
   "cell_type": "code",
   "execution_count": null,
   "id": "566458e7-111c-4b1d-9afd-c001308a3952",
   "metadata": {},
   "outputs": [],
   "source": [
    "idx = c.df_results.index.unique(level=0)\n",
    "print(idx)\n",
    "plot_list = [idx[i] for i in [1,2]]\n",
    "c.plot_SA_vs_DOY(plot_list=plot_list)"
   ]
  },
  {
   "cell_type": "code",
   "execution_count": null,
   "id": "f9ca6602-922d-4211-938c-d6c6059dd13c",
   "metadata": {},
   "outputs": [],
   "source": [
    "c.df_results.index.unique(level=0)[4]"
   ]
  },
  {
   "cell_type": "code",
   "execution_count": null,
   "id": "bcd96c9a-d1a3-41c6-ad9d-80e6d0d0c562",
   "metadata": {},
   "outputs": [],
   "source": [
    "import numpy as np\n",
    "import matplotlib.pyplot as plt\n",
    "\n",
    "f,ax  = plt.subplots(1,1,figsize=(9,6))\n",
    "\n",
    "plot_list = [c.df_results.index.unique(level=0)[i] for i in [1,3,4]]\n",
    "#plot_list =None\n",
    "\n",
    "if plot_list is None:\n",
    "    plot_list  = c.df_results.index.unique(level=0)\n",
    "    \n",
    "for idx, new_df in c.df_results.groupby(level=0):\n",
    "    if idx in plot_list:\n",
    "    \n",
    "        x = np.array([doy.split('-')[1] for doy in new_df.index.get_level_values(1)],dtype=np.float64)\n",
    "        y = new_df['separation'].values\n",
    "        line, = ax.plot(x,y,label=idx)\n",
    "    \n",
    "        for ythr in [54,126]:\n",
    "            d = y-ythr\n",
    "            cross=(np.sign(d*np.roll(d,1))<1)[1:]\n",
    "            x1s = 0.5*(x[1:]+x[:-1])[cross]\n",
    "            for x1 in x1s:\n",
    "                ax.axvline(x1,color=line.get_color())\n",
    "    \n",
    "ax.set_xlabel('DOY')\n",
    "ax.set_ylabel('Sun Angle')\n",
    "ax.axhline(54,linestyle='--',color='gray')\n",
    "ax.axhline(126,linestyle='--',color='gray')\n",
    "\n",
    "ax.text(0, 50, 'Not allowed', horizontalalignment='right', verticalalignment='top',rotation='vertical')\n",
    "ax.text(0, 130, 'Not allowed', horizontalalignment='right', verticalalignment='bottom',rotation='vertical')\n",
    "ax.text(0, 90, 'Allowed', horizontalalignment='right', verticalalignment='center',rotation='vertical')\n",
    "\n",
    "\n",
    "ax.legend(ncol=2)\n"
   ]
  },
  {
   "cell_type": "code",
   "execution_count": null,
   "id": "a384368a-9c5d-4bcb-ba22-5992d74b0d6c",
   "metadata": {},
   "outputs": [],
   "source": [
    "c.df_results.index.unique(level=0)[1]"
   ]
  }
 ],
 "metadata": {
  "kernelspec": {
   "display_name": "Python 3 (ipykernel)",
   "language": "python",
   "name": "python3"
  },
  "language_info": {
   "codemirror_mode": {
    "name": "ipython",
    "version": 3
   },
   "file_extension": ".py",
   "mimetype": "text/x-python",
   "name": "python",
   "nbconvert_exporter": "python",
   "pygments_lexer": "ipython3",
   "version": "3.11.12"
  }
 },
 "nbformat": 4,
 "nbformat_minor": 5
}
