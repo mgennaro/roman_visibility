{
 "cells": [
  {
   "cell_type": "code",
   "execution_count": null,
   "id": "3c7d589b-5a2f-40e2-b54a-f30982b2d25f",
   "metadata": {},
   "outputs": [],
   "source": [
    "from tgt_vis import compute_visibility\n",
    "from astropy.coordinates import SkyCoord\n",
    "from astropy import units as u\n",
    "from astropy.time import Time"
   ]
  },
  {
   "cell_type": "code",
   "execution_count": null,
   "id": "f614f316-c6a3-4568-b095-dad23b95faac",
   "metadata": {},
   "outputs": [],
   "source": [
    "ra_list = [ '06h00m00s', '08h00m00s', '08h00m00s','17h45m40s', '09h00m00s', '09h00m00s']\n",
    "dec_list= ['-01d00m00s', '60d00m00s','-60d00m00s','-29d00m28s','89d00m00s','-89d00m00s']\n",
    "tgts = [SkyCoord(ra, dec,frame='icrs') for ra,dec in zip(ra_list,dec_list)]"
   ]
  },
  {
   "cell_type": "code",
   "execution_count": null,
   "id": "63f6089e-5a7a-49f8-8239-093cb4a8f388",
   "metadata": {},
   "outputs": [],
   "source": [
    "c = compute_visibility(tgts,report=True,fileout='test.txt',interval_sampling_days=None,interval_start_time=None,interval_duration_days=None)\n"
   ]
  },
  {
   "cell_type": "code",
   "execution_count": null,
   "id": "ae610ff8-2446-408a-a480-b1ffab23dfcb",
   "metadata": {},
   "outputs": [],
   "source": [
    "c.compute_and_display()"
   ]
  },
  {
   "cell_type": "code",
   "execution_count": null,
   "id": "3ec46620-4f6d-4cb6-90bd-7841d2c8636f",
   "metadata": {},
   "outputs": [],
   "source": [
    "c.df_results"
   ]
  },
  {
   "cell_type": "code",
   "execution_count": null,
   "id": "aaa199b8-9792-48d0-baf7-b84f116f35ff",
   "metadata": {},
   "outputs": [],
   "source": []
  }
 ],
 "metadata": {
  "kernelspec": {
   "display_name": "Python 3 (ipykernel)",
   "language": "python",
   "name": "python3"
  },
  "language_info": {
   "codemirror_mode": {
    "name": "ipython",
    "version": 3
   },
   "file_extension": ".py",
   "mimetype": "text/x-python",
   "name": "python",
   "nbconvert_exporter": "python",
   "pygments_lexer": "ipython3",
   "version": "3.11.12"
  }
 },
 "nbformat": 4,
 "nbformat_minor": 5
}
